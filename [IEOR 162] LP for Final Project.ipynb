{
 "cells": [
  {
   "cell_type": "code",
   "execution_count": 2,
   "metadata": {},
   "outputs": [],
   "source": [
    "import numpy as np\n",
    "import pandas as pd\n",
    "import math\n",
    "import matplotlib.pyplot as plt\n",
    "from datetime import datetime\n",
    "import pulp\n",
    "\n",
    "names = ['VIN', 'plant', 'dealer','time']\n",
    "df = pd.read_csv('Problem_VehicleShipmentRequirement.csv',names=names,header=0,usecols=[0,1,2,3])\n",
    "names_vdc = ['plant','capacity','rail']\n",
    "df_vdc = pd.read_csv('existingvdc.csv',names=names_vdc,header=0,usecols=[0,1,2])\n",
    "names_locations = ['location', 'dealer','lat','long']\n",
    "df_locations = pd.read_csv('locations.csv',names=names_locations,header=0,usecols=[0,1,2,3])\n",
    "locations_lp = pd.read_csv('locations.csv', index_col=['Location'])"
   ]
  },
  {
   "cell_type": "code",
   "execution_count": 3,
   "metadata": {},
   "outputs": [],
   "source": [
    "df_locations['dealer'].value_counts()\n",
    "dealers = df_locations[df_locations.dealer == 1]\n",
    "VDCs = df_locations[df_locations.dealer == 0]"
   ]
  },
  {
   "cell_type": "code",
   "execution_count": 4,
   "metadata": {},
   "outputs": [],
   "source": [
    "dealers_lats = dealers['lat'].tolist()\n",
    "dealers_longs = dealers['long'].tolist()\n",
    "dealers_locations = dealers['location'].tolist()"
   ]
  },
  {
   "cell_type": "code",
   "execution_count": 5,
   "metadata": {},
   "outputs": [
    {
     "name": "stdout",
     "output_type": "stream",
     "text": [
      "311842\n",
      "171269\n",
      "237191\n",
      "328273\n"
     ]
    }
   ],
   "source": [
    "initialROs = df[df.plant == 'RO']\n",
    "initialFFs = df[df.plant == 'FF']\n",
    "initial3As = df[df.plant == '3A']\n",
    "initialSOs = df[df.plant == 'SO']\n",
    "\n",
    "print(len(initialROs))\n",
    "print(len(initialFFs))\n",
    "print(len(initial3As))\n",
    "print(len(initialSOs))"
   ]
  },
  {
   "cell_type": "code",
   "execution_count": 6,
   "metadata": {},
   "outputs": [],
   "source": [
    "import math\n",
    "\n",
    "def distance(origin, destination):\n",
    "    lat1, lon1 = origin\n",
    "    lat2, lon2 = destination\n",
    "    radius = 3959 # miles\n",
    "\n",
    "    dlat = math.radians(lat2-lat1)\n",
    "    dlon = math.radians(lon2-lon1)\n",
    "    a = math.sin(dlat/2) * math.sin(dlat/2) + math.cos(math.radians(lat1)) \\\n",
    "        * math.cos(math.radians(lat2)) * math.sin(dlon/2) * math.sin(dlon/2)\n",
    "    c = 2 * math.atan2(math.sqrt(a), math.sqrt(1-a))\n",
    "    d = radius * c\n",
    "\n",
    "    return d"
   ]
  },
  {
   "cell_type": "code",
   "execution_count": 64,
   "metadata": {},
   "outputs": [],
   "source": [
    "#PuLp doesn't understand floor divide so have to create own\n",
    "\n"
   ]
  },
  {
   "cell_type": "code",
   "execution_count": 59,
   "metadata": {},
   "outputs": [
    {
     "name": "stdout",
     "output_type": "stream",
     "text": [
      "[True, True, False, True, True, False, False, True, True, False, False, True, True, True, True, True, True, False, False, False, False, False, False, True, False, False, False, True, False, True, False, True, True, False, False, True, False, False, False, True, True, True, False, True]\n",
      "['3A', '3F', '7J', '7M', 'BM', 'CE', 'DO', 'DV', 'DW', 'DZ', 'EC', 'FF', 'NZ', 'QT', 'RO', 'RX', 'SO', 'UL', 'VW', 'WL', 'QW', 'WK']\n"
     ]
    }
   ],
   "source": [
    "#Create list of VDCs with rails\n",
    "\n",
    "vdcrails = df_vdc['rail'].tolist()\n",
    "existingvdcs = df_vdc['plant'].tolist()\n",
    "print(vdcrails)\n",
    "\n",
    "vdcswithrails = []\n",
    "\n",
    "for i in range(len(vdcrails)):\n",
    "    if vdcrails[i]:\n",
    "        vdcswithrails.append(existingvdcs[i])\n",
    "        \n",
    "print(vdcswithrails)\n",
    "        "
   ]
  },
  {
   "cell_type": "code",
   "execution_count": 60,
   "metadata": {},
   "outputs": [],
   "source": [
    "#Instantiate problem class\n",
    "\n",
    "model = pulp.LpProblem(\"IEOR 162 final project\", pulp.LpMinimize)"
   ]
  },
  {
   "cell_type": "code",
   "execution_count": 61,
   "metadata": {},
   "outputs": [
    {
     "name": "stdout",
     "output_type": "stream",
     "text": [
      "237191\n",
      "311842\n",
      "328273\n",
      "171269\n",
      "21611\n",
      "7289\n",
      "6280\n",
      "5935\n",
      "5827\n",
      "8131\n",
      "8131\n"
     ]
    }
   ],
   "source": [
    "#Construct our decision variable lists\n",
    "\n",
    "VINs = df['VIN'].tolist()\n",
    "VDCs = df_vdc['plant'].tolist()\n",
    "dealers_var = dealers['location'].tolist()\n",
    "\n",
    "capacities = df_vdc['capacity'].tolist()\n",
    "dealers_3A = initial3As['dealer'].tolist()\n",
    "dealers_RO = initialROs['dealer'].tolist()\n",
    "dealers_SO = initialSOs['dealer'].tolist()\n",
    "dealers_FF = initialFFs['dealer'].tolist()\n",
    "\n",
    "newdf_3A = initial3As.groupby('dealer').count()\n",
    "newdf_RO = initialROs.groupby('dealer').count()\n",
    "newdf_SO = initialSOs.groupby('dealer').count()\n",
    "newdf_FF = initialFFs.groupby('dealer').count()\n",
    "\n",
    "vins_3A = newdf_3A['VIN'].tolist()\n",
    "vins_RO = newdf_RO['VIN'].tolist()\n",
    "vins_SO = newdf_SO['VIN'].tolist()\n",
    "vins_FF = newdf_FF['VIN'].tolist()\n",
    "\n",
    "curr_index_3A = newdf_3A.index.get_values()\n",
    "curr_index_RO = newdf_RO.index.get_values()\n",
    "curr_index_SO = newdf_SO.index.get_values()\n",
    "curr_index_FF = newdf_FF.index.get_values()\n",
    "\n",
    "new_index_3A = []\n",
    "new_index_RO = []\n",
    "new_index_SO = []\n",
    "new_index_FF = []\n",
    "\n",
    "for item in curr_index_3A:\n",
    "    temp = str(item)\n",
    "    new_index_3A.append(temp)\n",
    "for item in curr_index_RO:\n",
    "    temp = str(item)\n",
    "    new_index_RO.append(temp)\n",
    "for item in curr_index_SO:\n",
    "    temp = str(item)\n",
    "    new_index_SO.append(temp)\n",
    "for item in curr_index_FF:\n",
    "    temp = str(item)\n",
    "    new_index_FF.append(temp)\n",
    "    \n",
    "newdf_3A.index = new_index_3A #Setting grouped dataframe's index as dealer\n",
    "newdf_RO.index = new_index_RO\n",
    "newdf_SO.index = new_index_SO\n",
    "newdf_FF.index = new_index_FF\n",
    "#print(new_index)\n",
    "#print(newdf)\n",
    "\n",
    "combined_index = set(new_index_3A + new_index_SO + new_index_RO + new_index_FF)\n",
    "\n",
    "print(len(dealers_3A))\n",
    "print(len(dealers_RO))\n",
    "print(len(dealers_SO))\n",
    "print(len(dealers_FF))\n",
    "print(len(dealers_var))\n",
    "\n",
    "print(len(new_index_3A))\n",
    "print(len(new_index_SO))\n",
    "print(len(new_index_RO))\n",
    "print(len(new_index_FF))\n",
    "\n",
    "print(len(combined_index))\n",
    "print(len(set(combined_index)))\n",
    "#print(dealers_var[:10])"
   ]
  },
  {
   "cell_type": "code",
   "execution_count": 62,
   "metadata": {},
   "outputs": [],
   "source": [
    "#Instantiate variable classes\n",
    "\n",
    "truck_vdc = pulp.LpVariable.dicts(\"# of cars shipped between vdc i and j by truck\", ((str(i), str(j)) for i in VDCs for j in VDCs if i != j), lowBound=0, cat='Integer')\n",
    "truck_dealer = pulp.LpVariable.dicts(\"# of cars shipped between vdc i and dealer k by truck\", ((str(i), str(k)) for i in VDCs for k in dealers_var), lowBound=0, cat='Integer')\n",
    "arrive_by_truck = pulp.LpVariable.dicts(\"# of cars arriving at dealer k from vdc i\", ((str(i), str(k)) for i in ['3A', 'RO', 'SO', 'FF'] for k in combined_index), lowBound=0, cat='Integer')\n",
    "\n",
    "rail_vdc = pulp.LpVariable.dicts(\"# of cars shipped between vdc i and j by rail\", ((str(i), str(j)) for i in vdcswithrails for j in vdcswithrails if i != j), lowBound=0, cat='Integer')\n",
    "rail_dealer = pulp.LpVariable.dicts(\"# of cars shipped between vdc i and dealer j by rail\", ((str(i), str(k)) for i in vdcswithrails for k in dealers_var), lowBound=0, cat='Integer')"
   ]
  },
  {
   "cell_type": "code",
   "execution_count": 76,
   "metadata": {},
   "outputs": [
    {
     "name": "stderr",
     "output_type": "stream",
     "text": [
      "/Users/academic/anaconda3/lib/python3.6/site-packages/pulp/pulp.py:1349: UserWarning: Overwriting previously set objective.\n",
      "  warnings.warn(\"Overwriting previously set objective.\")\n"
     ]
    }
   ],
   "source": [
    "#Construct objective function\n",
    "\n",
    "for i in VDCs:\n",
    "    model += (pulp.lpSum([(200 + (4)*distance([locations_lp.loc[str(i), 'Latitude'], locations_lp.loc[str(i), 'Longitude']],[locations_lp.loc[str(j), 'Latitude'], locations_lp.loc[str(j), 'Longitude']]))*((truck_dealer[(str(i), str(j))])*(1/10)) for j in dealers_var]))\n",
    "    model += (pulp.lpSum([(200 + (4)*distance([locations_lp.loc[str(i), 'Latitude'], locations_lp.loc[str(i), 'Longitude']],[locations_lp.loc[str(j), 'Latitude'], locations_lp.loc[str(j), 'Longitude']]))*((truck_vdc[(str(i), str(j))]))*(1/10) for j in VDCs if i != j]))\n",
    "    \n",
    "for i in vdcswithrails:\n",
    "    model += (pulp.lpSum([(2000 + (3)*distance([locations_lp.loc[str(i), 'Latitude'], locations_lp.loc[str(i), 'Longitude']],[locations_lp.loc[str(j), 'Latitude'], locations_lp.loc[str(j), 'Longitude']]))*(rail_vdc[(str(i), str(j))])*(1/20) for j in vdcswithrails if i != j]))\n",
    "    model += (pulp.lpSum([(2000 + (3)*distance([locations_lp.loc[str(i), 'Latitude'], locations_lp.loc[str(i), 'Longitude']],[locations_lp.loc[str(j), 'Latitude'], locations_lp.loc[str(j), 'Longitude']]))*(rail_dealer[(str(i), str(j))])*(1/20) for j in dealers_var]))\n",
    "    "
   ]
  },
  {
   "cell_type": "code",
   "execution_count": null,
   "metadata": {},
   "outputs": [],
   "source": [
    "#Construct constraints\n",
    "\n",
    "#model += pulp.lpSum([truck_vdc['3A', str(j)] for j in VDCs if str(j) != '3A']) + pulp.lpSum([truck_dealer['3A', str(k)] for k in dealers_3A])  == 237191\n",
    "#model += pulp.lpSum([truck_dealer['3A', str(k)] + truck_dealer[str(j), str(k)] for k in dealers_3A for j in VDCs if str(j) != '3A']) == 237191\n",
    "\n",
    "for k in new_index_3A:\n",
    "    model += (arrive_by_truck[('3A', str(k))] == newdf_3A.loc[str(k), 'VIN'])\n",
    "    #model += ((pulp.lpSum([truck_dealer[str(i), str(k)] for i in VDCs]) + pulp.lpSum([rail_dealer[str(i), str(k)] for i in vdcswithrails])) == arrive_by_truck[('3A',str(k))])\n",
    "    model += ((pulp.lpSum([truck_dealer[str(j), str(k)] for j in VDCs if j != '3A'])) + truck_dealer['3A', str(k)] + (pulp.lpSum([rail_dealer[str(j), str(k)] for j in vdcswithrails if j != '3A'])) + rail_dealer['3A', str(k)]  >= arrive_by_truck[('3A',str(k))])\n",
    "    #model += ((pulp.lpSum([truck_vdc['3A', str(j)] - truck_dealer[str(j), str(k)] for j in VDCs if j != '3A'])) + (pulp.lpSum([rail_vdc['3A', str(j)] - rail_dealer[str(j), str(k)] for j in vdcswithrails if j != '3A'])) == 0)\n",
    "    \n"
   ]
  },
  {
   "cell_type": "code",
   "execution_count": 73,
   "metadata": {},
   "outputs": [
    {
     "ename": "TypeError",
     "evalue": "must be real number, not LpAffineExpression",
     "output_type": "error",
     "traceback": [
      "\u001b[0;31m---------------------------------------------------------------------------\u001b[0m",
      "\u001b[0;31mTypeError\u001b[0m                                 Traceback (most recent call last)",
      "\u001b[0;32m<ipython-input-73-eac053d0e30e>\u001b[0m in \u001b[0;36m<module>\u001b[0;34m()\u001b[0m\n\u001b[1;32m      1\u001b[0m \u001b[0mnewvar\u001b[0m \u001b[0;34m=\u001b[0m \u001b[0;34m[\u001b[0m\u001b[0;34m]\u001b[0m\u001b[0;34m\u001b[0m\u001b[0m\n\u001b[0;32m----> 2\u001b[0;31m \u001b[0mmodel\u001b[0m \u001b[0;34m+=\u001b[0m \u001b[0mnewvar\u001b[0m \u001b[0;34m==\u001b[0m \u001b[0mmath\u001b[0m\u001b[0;34m.\u001b[0m\u001b[0mfloor\u001b[0m\u001b[0;34m(\u001b[0m\u001b[0;34m(\u001b[0m\u001b[0mtruck_dealer\u001b[0m\u001b[0;34m[\u001b[0m\u001b[0;34m'3A'\u001b[0m\u001b[0;34m,\u001b[0m \u001b[0;34m'20'\u001b[0m\u001b[0;34m]\u001b[0m\u001b[0;34m)\u001b[0m\u001b[0;34m*\u001b[0m\u001b[0;34m(\u001b[0m\u001b[0;36m1\u001b[0m\u001b[0;34m/\u001b[0m\u001b[0;36m10\u001b[0m\u001b[0;34m)\u001b[0m \u001b[0;34m+\u001b[0m \u001b[0;36m1\u001b[0m\u001b[0;34m)\u001b[0m\u001b[0;34m\u001b[0m\u001b[0m\n\u001b[0m",
      "\u001b[0;31mTypeError\u001b[0m: must be real number, not LpAffineExpression"
     ]
    }
   ],
   "source": []
  },
  {
   "cell_type": "code",
   "execution_count": null,
   "metadata": {},
   "outputs": [],
   "source": [
    "#more constraints\n",
    "\n",
    "for k in new_index_FF:\n",
    "    model += (arrive_by_truck[('FF', str(k))] == newdf_FF.loc[str(k), 'VIN'])\n",
    "    #model += ((pulp.lpSum([truck_dealer[str(i), str(k)] for i in VDCs]) + pulp.lpSum([rail_dealer[str(i), str(k)] for i in vdcswithrails])) == arrive_by_truck[('FF',str(k))])\n",
    "    model += ((pulp.lpSum([truck_dealer[str(j), str(k)] for j in VDCs if j != 'FF'])) + truck_dealer['FF', str(k)] + (pulp.lpSum([rail_dealer[str(j), str(k)] for j in vdcswithrails if j != 'FF'])) + rail_dealer['FF', str(k)]  >= arrive_by_truck[('FF',str(k))])\n",
    "    #model += ((pulp.lpSum([truck_vdc['FF', str(j)] - truck_dealer[str(j), str(k)] for j in VDCs if j != 'FF'])) + (pulp.lpSum([rail_vdc['FF', str(j)] - rail_dealer[str(j), str(k)] for j in vdcswithrails if j != 'FF'])) == 0)\n",
    "    \n",
    "        \n",
    "for k in new_index_RO:\n",
    "    model += (arrive_by_truck[('RO', str(k))] == newdf_RO.loc[str(k), 'VIN'])\n",
    "    #model += ((pulp.lpSum([truck_dealer[str(i), str(k)] for i in VDCs]) + pulp.lpSum([rail_dealer[str(i), str(k)] for i in vdcswithrails])) == arrive_by_truck[('RO',str(k))])\n",
    "    model += ((pulp.lpSum([truck_dealer[str(j), str(k)] for j in VDCs if j != 'RO'])) + truck_dealer['RO', str(k)] + (pulp.lpSum([rail_dealer[str(j), str(k)] for j in vdcswithrails if j != 'RO'])) + rail_dealer['RO', str(k)]  >= arrive_by_truck[('RO',str(k))])\n",
    "    #model += ((pulp.lpSum([truck_vdc['RO', str(j)] - truck_dealer[str(j), str(k)] for j in VDCs if j != 'RO'])) + (pulp.lpSum([rail_vdc['RO', str(j)] - rail_dealer[str(j), str(k)] for j in vdcswithrails if j != 'RO'])) == 0)\n",
    "\n",
    "\n",
    "for k in new_index_SO:\n",
    "    model += (arrive_by_truck[('SO', str(k))] == newdf_SO.loc[str(k), 'VIN'])\n",
    "    #model += ((pulp.lpSum([truck_dealer[str(i), str(k)] for i in VDCs]) + pulp.lpSum([rail_dealer[str(i), str(k)] for i in vdcswithrails])) == arrive_by_truck[('SO',str(k))])\n",
    "    model += ((pulp.lpSum([truck_dealer[str(j), str(k)] for j in VDCs if j != 'SO'])) + truck_dealer['SO', str(k)] + (pulp.lpSum([rail_dealer[str(j), str(k)] for j in vdcswithrails if j != 'SO'])) + rail_dealer['SO', str(k)]  >= arrive_by_truck[('SO',str(k))])\n",
    "    #model += ((pulp.lpSum([truck_vdc['SO', str(j)] - truck_dealer[str(j), str(k)] for j in VDCs if j != 'SO'])) + (pulp.lpSum([rail_vdc['SO', str(j)] - rail_dealer[str(j), str(k)] for j in vdcswithrails if j != 'SO'])) == 0)\n",
    "    \n"
   ]
  },
  {
   "cell_type": "code",
   "execution_count": null,
   "metadata": {},
   "outputs": [],
   "source": [
    "#more constraints\n",
    "\n"
   ]
  },
  {
   "cell_type": "code",
   "execution_count": null,
   "metadata": {},
   "outputs": [],
   "source": [
    "#stored (inactive constraints)\n",
    "\n",
    "\"\"\"model += ((pulp.lpSum([truck_vdc['RO', str(j)] - truck_dealer[str(j), str(k)] for j in VDCs if j != 'RO'])) + (pulp.lpSum([rail_vdc['RO', str(j)] - rail_dealer[str(j), str(k)] for j in vdcswithrails if j != 'RO']))  == 0)\n",
    "    model += ((pulp.lpSum([truck_vdc['SO', str(j)] - truck_dealer[str(j), str(k)] for j in VDCs if j != 'SO'])) + (pulp.lpSum([rail_vdc['SO', str(j)] - rail_dealer[str(j), str(k)] for j in vdcswithrails if j != 'SO']))  == 0)\n",
    "    model += ((pulp.lpSum([truck_vdc['FF', str(j)] - truck_dealer[str(j), str(k)] for j in VDCs if j != 'FF'])) + (pulp.lpSum([rail_vdc['FF', str(j)] - rail_dealer[str(j), str(k)] for j in vdcswithrails if j != 'FF']))  == 0)\"\"\"\n",
    "for j in VDCs:\n",
    "    if str(j) in ['3A','RO','SO','FF']:\n",
    "        pass\n",
    "    elif str(j) in vdcswithrails:\n",
    "        model += (pulp.lpSum([truck_vdc[(str(i), str(j))] for i in VDCs if i != j]) + pulp.lpSum([rail_vdc[(str(i), str(j))] for i in vdcswithrails if i != j]) == (pulp.lpSum([truck_dealer[(str(j), str(k))] + rail_dealer[(str(j), str(k))] for k in dealers_var])))\n",
    "    else:\n",
    "        model += (pulp.lpSum([truck_vdc[(str(i), str(j))] for i in VDCs if i != j]) == (pulp.lpSum([truck_dealer[(str(j), str(k))] for k in dealers_var])))\n",
    "        \n",
    "        \n",
    "        \n",
    "    \n",
    "#for k in combined_index:\n",
    "    #model += ((pulp.lpSum([truck_dealer[str(i), str(k)] for i in VDCs]) + pulp.lpSum([rail_dealer[str(i), str(k)] for i in vdcswithrails])) == (pulp.lpSum([arrive_by_truck[str(i), str(k)] for i in ['3A', 'RO', 'SO', 'FF']])))\n",
    "    #model += ((pulp.lpSum([truck_vdc[str(i), str(j)] - truck_dealer[str(j), str(k)] for i in ['RO','3A','SO','FF'] for j in VDCs if i != j])) + (pulp.lpSum([rail_vdc[str(i), str(j)] - rail_dealer[str(j), str(k)] for i in ['3A','RO','SO','FF'] for j in vdcswithrails if i != j]))  == 0)\n",
    "    "
   ]
  },
  {
   "cell_type": "code",
   "execution_count": null,
   "metadata": {},
   "outputs": [],
   "source": [
    "model.solve()"
   ]
  },
  {
   "cell_type": "code",
   "execution_count": null,
   "metadata": {},
   "outputs": [],
   "source": [
    "pulp.LpStatus[model.status]"
   ]
  },
  {
   "cell_type": "code",
   "execution_count": null,
   "metadata": {},
   "outputs": [],
   "source": [
    "print(pulp.value(model.objective))"
   ]
  },
  {
   "cell_type": "code",
   "execution_count": null,
   "metadata": {},
   "outputs": [],
   "source": [
    "output = []\n",
    "output2 = []\n",
    "output3 = []\n",
    "for i, j in truck_vdc:\n",
    "    var_output = {\n",
    "        'start': i,\n",
    "        'mid': j,\n",
    "        '# of cars': truck_vdc[(i, j)].varValue,\n",
    "    }\n",
    "    output.append(var_output)\n",
    "\n",
    "for i, k in arrive_by_truck:\n",
    "    var_output = {\n",
    "        'start': i,\n",
    "        'dealer': k,\n",
    "        '# of cars': arrive_by_truck[(i, k)].varValue,\n",
    "    }\n",
    "    output3.append(var_output)\n",
    "\n",
    "print(output)\n"
   ]
  },
  {
   "cell_type": "code",
   "execution_count": 100,
   "metadata": {},
   "outputs": [],
   "source": [
    "start_truck_vdc = []\n",
    "mid_truck_vdc = []\n",
    "number_truck_vdc = []\n",
    "for i, j in truck_vdc:\n",
    "    start_truck_vdc.append(i)\n",
    "    mid_truck_vdc.append(j)\n",
    "    number_truck_vdc.append(truck_vdc[(i, j)].varValue)\n",
    "    \n",
    "start_truck_dealer = []\n",
    "mid_truck_dealer = []\n",
    "number_truck_dealer = []\n",
    "for i, j in truck_dealer:\n",
    "    start_truck_dealer.append(i)\n",
    "    mid_truck_dealer.append(j)\n",
    "    number_truck_dealer.append(truck_dealer[(i, j)].varValue)\n",
    "    \n",
    "start_rail_vdc = []\n",
    "mid_rail_vdc = []\n",
    "number_rail_vdc = []\n",
    "\n",
    "for i, j in rail_vdc:\n",
    "    start_rail_vdc.append(i)\n",
    "    mid_rail_vdc.append(j)\n",
    "    number_rail_vdc.append(rail_vdc[(i, j)].varValue)\n",
    "    \n",
    "start_rail_dealer = []\n",
    "mid_rail_dealer = []\n",
    "number_rail_dealer = []\n",
    "for i, j in rail_dealer:\n",
    "    start_rail_dealer.append(i)\n",
    "    mid_rail_dealer.append(j)\n",
    "    number_rail_dealer.append(rail_dealer[(i, j)].varValue)"
   ]
  },
  {
   "cell_type": "code",
   "execution_count": null,
   "metadata": {},
   "outputs": [],
   "source": []
  },
  {
   "cell_type": "code",
   "execution_count": null,
   "metadata": {},
   "outputs": [],
   "source": []
  },
  {
   "cell_type": "code",
   "execution_count": 102,
   "metadata": {},
   "outputs": [],
   "source": [
    "df_truck_vdc = pd.DataFrame()\n",
    "df_truck_vdc['Start of Path'] = start_truck_vdc\n",
    "df_truck_vdc['End of Path'] = mid_truck_vdc\n",
    "df_truck_vdc['Number of Cars on Path'] = number_truck_vdc\n",
    "#df_truck_vdc['Distance'] = distances_truck_vdc\n",
    "#df_truck_vdc['Cost'] = costs_truck_vdc\n",
    "\n",
    "df_truck_dealer = pd.DataFrame()\n",
    "df_truck_dealer['Start of Path'] = start_truck_dealer\n",
    "df_truck_dealer['End of Path'] = mid_truck_dealer\n",
    "df_truck_dealer['Number of Cars on Path'] = number_truck_dealer\n",
    "#df_truck_dealer['Distance'] = distances_truck_dealer\n",
    "#df_truck_dealer['Cost'] = costs_truck_dealer\n",
    "\n",
    "df_rail_vdc = pd.DataFrame()\n",
    "df_rail_vdc['Start of Path'] = start_rail_vdc\n",
    "df_rail_vdc['End of Path'] = mid_rail_vdc\n",
    "df_rail_vdc['Number of Cars on Path'] = number_rail_vdc\n",
    "#df_rail_vdc['Distance'] = distances_rail_vdc\n",
    "#df_rail_vdc['Cost'] = costs_rail_vdc\n",
    "\n",
    "df_rail_dealer = pd.DataFrame()\n",
    "df_rail_dealer['Start of Path'] = start_rail_dealer\n",
    "df_rail_dealer['End of Path'] = mid_rail_dealer\n",
    "df_rail_dealer['Number of Cars on Path'] = number_rail_dealer\n",
    "#df_rail_dealer['Distance'] = distances_rail_dealer\n",
    "#df_rail_dealer['Cost'] = costs_rail_dealer"
   ]
  },
  {
   "cell_type": "code",
   "execution_count": 96,
   "metadata": {},
   "outputs": [],
   "source": [
    "df_truck_vdc = df_truck_vdc.dropna()\n",
    "df_rail_vdc = df_rail_vdc.dropna()\n",
    "df_truck_dealer = df_truck_dealer.dropna()\n",
    "df_rail_dealer = df_rail_dealer.dropna()"
   ]
  },
  {
   "cell_type": "code",
   "execution_count": 87,
   "metadata": {},
   "outputs": [],
   "source": [
    "df_truck_vdc.to_csv('truck_vdc_routingdetails.csv')\n",
    "df_truck_dealer.to_csv('truck_dealer_routingdetail.csv')\n",
    "df_rail_vdc.to_csv('rail_vdc_routingdetail.csv')\n",
    "df_rail_dealer.to_csv('rail_dealer_routingdetail.csv')"
   ]
  },
  {
   "cell_type": "code",
   "execution_count": null,
   "metadata": {},
   "outputs": [],
   "source": [
    "#check\n",
    "#print(vins_3A)\n",
    "for k in new_index_3A:\n",
    "    print(type(newdf_3A.loc[str(k), 'VIN']))"
   ]
  },
  {
   "cell_type": "code",
   "execution_count": null,
   "metadata": {},
   "outputs": [],
   "source": [
    "15//10"
   ]
  },
  {
   "cell_type": "code",
   "execution_count": 9,
   "metadata": {},
   "outputs": [],
   "source": [
    "dffinal1 = pd.read_csv('truck_dealer_routingdetail2.csv',names=['index','start','end','number'],header=0,usecols=[0,1,2,3])\n",
    "dffinal2 = pd.read_csv('rail_dealer_routingdetail2.csv',names=['index','start','end','number'],header=0,usecols=[0,1,2,3])\n"
   ]
  },
  {
   "cell_type": "code",
   "execution_count": 12,
   "metadata": {},
   "outputs": [
    {
     "name": "stdout",
     "output_type": "stream",
     "text": [
      "[1755.5454123034785, 1247.5439248774774, 1785.045437166107, 1697.6736017903493, 941.6640554511861, 625.5882320502417, 945.5698013523294, 1618.4903195597224, 1022.9558642936422, 1567.2150737809961, 1761.2013931985186, 858.7749209151733, 2216.352585026631, 193.77038165130338, 1411.6250312569155, 1327.9833946518268, 550.934466983487, 350.8125434605505, 1298.2899090238216, 1722.6574972569717, 1218.3619204770735, 995.0001485067226, 561.2471168672694, 1419.1489827428632, 524.4282577958198, 1463.188669336892, 797.282358862904, 787.5370860576589, 438.7737589064111, 877.7549075598819, 776.8543394642039, 1366.049212482919, 1274.4524412327005, 760.7016141318009, 1217.6364929880244, 833.9748781783243, 884.3587588245299, 976.5048406709125, 947.2677672221392, 936.006322881239, 640.162158670063, 1708.82101282975, 1734.074769820091, 1532.3257375406577, 1203.8451996042575, 1199.681870581671, 1320.3432560021681, 328.3400826758245, 133.0945606677574, 1066.9116760365962, 1533.6819595109382, 1482.728104467425, 919.4120465660762, 227.47296067660312, 472.7792491501733, 1436.084350350246, 1330.9538533774382, 1128.4586859298852, 1743.594096821607, 1873.2132539179327, 2000.1650530809777, 1351.4735175655085, 861.8497818432701, 1015.0699374369134, 1545.1675611832195, 1592.5519642158954, 219.2905965846759, 1697.5244234044399, 1553.323821398814, 687.9586313356368, 978.3753388198231, 266.5155640898761, 1516.6650318265768, 1739.241374887822, 1783.501667895897, 1123.747553732941, 996.5415044220891, 208.20737780148124, 1761.2013931985186, 867.2985928857879, 840.4446003195588, 670.4970999261193, 1740.3707030792975, 11.976177931537283, 73.88088818479665, 1633.5648069109584, 1749.5702903038311, 1465.7037072401454, 1064.5291576775753, 1474.556637118352, 914.0688583756289, 620.4337228726913, 1563.67877107692, 1506.175359385028, 1643.935998273034, 343.7218947153334, 875.6328277479033, 1445.393844239993, 1203.8451996042575, 1102.7769044586748]\n"
     ]
    }
   ],
   "source": [
    "distances_truck_vdc = []\n",
    "distances_rail_vdc = []\n",
    "distances_truck_dealer = []\n",
    "distances_rail_dealer = []\n",
    "\n",
    "startingtruck = dffinal1['start'].tolist()\n",
    "midtruck = dffinal1['end'].tolist()\n",
    "numbertruck = dffinal1['number'].tolist()\n",
    "\n",
    "startingrail = dffinal2['start'].tolist()\n",
    "midrail = dffinal2['end'].tolist()\n",
    "numberrail = dffinal2['number'].tolist()\n",
    "    \n",
    "for i in range(len(startingtruck)):\n",
    "    temp1 = distance([locations_lp.loc[str(startingtruck[i]), 'Latitude'], locations_lp.loc[str(startingtruck[i]), 'Longitude']],[locations_lp.loc[str(midtruck[i]), 'Latitude'], locations_lp.loc[str(midtruck[i]), 'Longitude']])\n",
    "    distances_truck_dealer.append(temp1)\n",
    "\n",
    "for i in range(len(startingrail)):\n",
    "    temp1 = distance([locations_lp.loc[str(startingrail[i]), 'Latitude'], locations_lp.loc[str(startingrail[i]), 'Longitude']],[locations_lp.loc[str(midrail[i]), 'Latitude'], locations_lp.loc[str(midrail[i]), 'Longitude']])\n",
    "    distances_rail_dealer.append(temp1)\n",
    "    \n",
    "\n",
    "print(distances_truck_dealer[:100])"
   ]
  },
  {
   "cell_type": "code",
   "execution_count": 20,
   "metadata": {},
   "outputs": [
    {
     "name": "stdout",
     "output_type": "stream",
     "text": [
      "[7222.181649213914, 0, 0, 20972.08322148419, 0, 0, 0, 0, 0, 0, 0, 0, 0, 0, 99390.50212547026, 0, 14422.427207603689, 0, 0, 0, 0, 0, 12224.942337345386, 0, 6893.139093549838, 0, 0, 0, 0, 0, 0, 0, 10595.619529861604, 35670.871021799234, 0, 0, 0, 0, 0, 0, 0, 0, 0, 0, 0, 0, 0, 0, 0, 0, 0, 0, 0, 0, 0, 0, 33142.892481058516, 28283.008462317244, 0, 0, 0, 11211.788140524068, 0, 0, 0, 59131.87071177224, 0, 0, 0, 0, 0, 0, 18799.980381918922, 0, 0, 0, 0, 0, 0, 0, 0, 0, 0, 0, 0, 6734.259227643834, 0, 0, 0, 0, 0, 0, 0, 6224.701437540112, 0, 0, 0, 0, 0, 0]\n"
     ]
    }
   ],
   "source": [
    "costs_truck_vdc = []\n",
    "costs_truck_dealer = []\n",
    "costs_rail_vdc = []\n",
    "costs_rail_dealer = []\n",
    "\n",
    "\n",
    "    \n",
    "for i in range(len(distances_truck_dealer)):\n",
    "    if numbertruck[i] == 0:\n",
    "        costs_truck_dealer.append(0)\n",
    "    else:\n",
    "        temp = (numbertruck[i]//10 + 1)*(4*distances_truck_dealer[i] + 200)\n",
    "        costs_truck_dealer.append(temp)\n",
    "    \n",
    "\n",
    "    \n",
    "for i in range(len(distances_rail_dealer)):\n",
    "    if numberrail[i] == 0:\n",
    "        costs_rail_dealer.append(0)\n",
    "    else:\n",
    "        temp = (numberrail[i]//10 + 1)*(4*distances_rail_dealer[i] + 200)\n",
    "        costs_rail_dealer.append(temp)\n",
    "    \n",
    "print(costs_truck_dealer[:100])"
   ]
  },
  {
   "cell_type": "code",
   "execution_count": 22,
   "metadata": {},
   "outputs": [
    {
     "name": "stdout",
     "output_type": "stream",
     "text": [
      "258340674.55925\n"
     ]
    }
   ],
   "source": [
    "suma = sum(costs_truck_dealer) + sum(costs_rail_dealer)\n",
    "print(suma)\n",
    "#print(sum(costs_truck_dealer)\n",
    "#print(sum(costs_rail_vdc)\n",
    "#print(sum(costs_rail_dealer)\n",
    "\n",
    "dffinal1['Distance'] = distances_truck_dealer\n",
    "dffinal1['Cost'] = costs_truck_dealer\n",
    "\n",
    "dffinal2['Distance'] = distances_rail_dealer\n",
    "dffinal2['Cost'] = costs_rail_dealer\n",
    "\n",
    "    \n",
    "    "
   ]
  },
  {
   "cell_type": "code",
   "execution_count": 23,
   "metadata": {},
   "outputs": [],
   "source": [
    "dffinal1.to_csv('truck_routingdetail_optimized.csv')\n",
    "dffinal2.to_csv('rail_routingdetail_optimized.csv')"
   ]
  },
  {
   "cell_type": "code",
   "execution_count": null,
   "metadata": {},
   "outputs": [],
   "source": [
    "for i in range(len(distances_truck_vdc)):\n",
    "    temp = (number_truck_vdc[i]//10 + 1)*(4*distances_truck_vdc[i] + 200)\n",
    "    costs_truck_vdc.append(temp)\n",
    "    \n",
    "    \n",
    "for i in range(len(distances_rail_vdc)):\n",
    "    temp = (number_rail_vdc[i]//10 + 1)*(4*distances_rail_vdc[i] + 200)\n",
    "    costs_rail_vdc.append(temp)"
   ]
  }
 ],
 "metadata": {
  "kernelspec": {
   "display_name": "Python 3",
   "language": "python",
   "name": "python3"
  },
  "language_info": {
   "codemirror_mode": {
    "name": "ipython",
    "version": 3
   },
   "file_extension": ".py",
   "mimetype": "text/x-python",
   "name": "python",
   "nbconvert_exporter": "python",
   "pygments_lexer": "ipython3",
   "version": "3.6.5"
  }
 },
 "nbformat": 4,
 "nbformat_minor": 2
}
